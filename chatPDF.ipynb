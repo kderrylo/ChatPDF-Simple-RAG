{
 "cells": [
  {
   "attachments": {},
   "cell_type": "markdown",
   "metadata": {},
   "source": [
    "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"
   ]
  },
  {
   "cell_type": "code",
   "execution_count": 113,
   "metadata": {},
   "outputs": [],
   "source": [
    "import os, warnings, tiktoken, faiss\n",
    "from dotenv import load_dotenv\n",
    "from langchain_community.document_loaders import PyMuPDFLoader\n",
    "from langchain_text_splitters import RecursiveCharacterTextSplitter\n",
    "from langchain_ollama import OllamaEmbeddings\n",
    "from langchain_community.vectorstores import FAISS\n",
    "from langchain_community.docstore.in_memory import InMemoryDocstore\n",
    "from langchain import hub\n",
    "from langchain_core.output_parsers import StrOutputParser\n",
    "from langchain_core.runnables import RunnablePassthrough\n",
    "from langchain_core.prompts import ChatPromptTemplate\n",
    "from langchain_ollama import ChatOllama"
   ]
  },
  {
   "cell_type": "code",
   "execution_count": 1,
   "metadata": {},
   "outputs": [
    {
     "data": {
      "text/plain": [
       "True"
      ]
     },
     "execution_count": 1,
     "metadata": {},
     "output_type": "execute_result"
    }
   ],
   "source": [
    "os.environ['KMP_DUPLICATE_LIB_OK'] = 'True'\n",
    "warnings.filterwarnings(\"ignore\")\n",
    "\n",
    "load_dotenv()"
   ]
  },
  {
   "cell_type": "code",
   "execution_count": 2,
   "metadata": {},
   "outputs": [
    {
     "data": {
      "text/plain": [
       "'ChatPDF'"
      ]
     },
     "execution_count": 2,
     "metadata": {},
     "output_type": "execute_result"
    }
   ],
   "source": [
    "os.environ['LANGCHAIN_PROJECT']"
   ]
  },
  {
   "attachments": {},
   "cell_type": "markdown",
   "metadata": {},
   "source": [
    "# Load the Documents"
   ]
  },
  {
   "cell_type": "code",
   "execution_count": 21,
   "metadata": {},
   "outputs": [],
   "source": [
    "loader = PyMuPDFLoader(\"./RAG_data/gym supplements/1. Analysis of Actual Fitness Supplement.pdf\")\n",
    "docs = loader.load()\n",
    "\n",
    "# D:\\PROJECT\\LLM\\Llama-3.2\\ChatPDF\\RAG_data\\gym supplements\\1. Analysis of Actual Fitness Supplement.pdf"
   ]
  },
  {
   "cell_type": "code",
   "execution_count": 30,
   "metadata": {},
   "outputs": [],
   "source": [
    "# doc = docs[0]\n",
    "# print(doc.metadata)\n",
    "# print(doc.page_content)"
   ]
  },
  {
   "cell_type": "code",
   "execution_count": 37,
   "metadata": {},
   "outputs": [],
   "source": [
    "pdfs=[]\n",
    "for root , dirs, files in os.walk('RAG_data'):\n",
    "    # print(root, dirs, files)\n",
    "    for file in files:\n",
    "        if file.endswith('.pdf'):\n",
    "            pdfs.append(os.path.join(root, file))"
   ]
  },
  {
   "cell_type": "code",
   "execution_count": 38,
   "metadata": {},
   "outputs": [
    {
     "data": {
      "text/plain": [
       "['RAG_data\\\\gym supplements\\\\1. Analysis of Actual Fitness Supplement.pdf',\n",
       " 'RAG_data\\\\gym supplements\\\\2. High Prevalence of Supplement Intake.pdf',\n",
       " 'RAG_data\\\\health supplements\\\\1. dietary supplements - for whom.pdf',\n",
       " 'RAG_data\\\\health supplements\\\\2. Nutraceuticals research.pdf',\n",
       " 'RAG_data\\\\health supplements\\\\3.health_supplements_side_effects.pdf']"
      ]
     },
     "execution_count": 38,
     "metadata": {},
     "output_type": "execute_result"
    }
   ],
   "source": [
    "pdfs"
   ]
  },
  {
   "cell_type": "code",
   "execution_count": 39,
   "metadata": {},
   "outputs": [],
   "source": [
    "docs = []\n",
    "for pdf in pdfs:\n",
    "    loader = PyMuPDFLoader(pdf)\n",
    "    pages = loader.load()\n",
    "\n",
    "    docs.extend(pages)"
   ]
  },
  {
   "cell_type": "code",
   "execution_count": 41,
   "metadata": {},
   "outputs": [
    {
     "data": {
      "text/plain": [
       "64"
      ]
     },
     "execution_count": 41,
     "metadata": {},
     "output_type": "execute_result"
    }
   ],
   "source": [
    "len(docs)"
   ]
  },
  {
   "attachments": {},
   "cell_type": "markdown",
   "metadata": {},
   "source": [
    "# Document Chunking"
   ]
  },
  {
   "cell_type": "code",
   "execution_count": 47,
   "metadata": {},
   "outputs": [
    {
     "data": {
      "text/plain": [
       "(321, 64)"
      ]
     },
     "execution_count": 47,
     "metadata": {},
     "output_type": "execute_result"
    }
   ],
   "source": [
    "\n",
    "text_splitter = RecursiveCharacterTextSplitter(\n",
    "    # Set a really small chunk size, just to show.\n",
    "    chunk_size=1000,\n",
    "    chunk_overlap=100\n",
    ")\n",
    "chunks = text_splitter.split_documents(docs)\n",
    "len(chunks), len(docs)"
   ]
  },
  {
   "cell_type": "code",
   "execution_count": 53,
   "metadata": {},
   "outputs": [
    {
     "data": {
      "text/plain": [
       "(981, 4340)"
      ]
     },
     "execution_count": 53,
     "metadata": {},
     "output_type": "execute_result"
    }
   ],
   "source": [
    "len(chunks[0].page_content), len(docs[0].page_content)"
   ]
  },
  {
   "cell_type": "code",
   "execution_count": 56,
   "metadata": {},
   "outputs": [
    {
     "data": {
      "text/plain": [
       "(294, 969)"
      ]
     },
     "execution_count": 56,
     "metadata": {},
     "output_type": "execute_result"
    }
   ],
   "source": [
    "encoding = tiktoken.encoding_for_model(\"gpt-4o-mini\")\n",
    "len(encoding.encode(chunks[0].page_content)), len(encoding.encode(docs[0].page_content))"
   ]
  },
  {
   "cell_type": "code",
   "execution_count": 58,
   "metadata": {},
   "outputs": [],
   "source": [
    "# encoding.encode(chunks[0].page_content)"
   ]
  },
  {
   "attachments": {},
   "cell_type": "markdown",
   "metadata": {},
   "source": [
    "# Vector Embedding"
   ]
  },
  {
   "cell_type": "code",
   "execution_count": 67,
   "metadata": {},
   "outputs": [
    {
     "data": {
      "text/plain": [
       "768"
      ]
     },
     "execution_count": 67,
     "metadata": {},
     "output_type": "execute_result"
    }
   ],
   "source": [
    "embeddings = OllamaEmbeddings(model='nomic-embed-text', base_url=\"http://localhost:11434\")\n",
    "\n",
    "single_vector = embeddings.embed_query(\"Does she love me?\")\n",
    "len(single_vector)"
   ]
  },
  {
   "cell_type": "code",
   "execution_count": 69,
   "metadata": {},
   "outputs": [
    {
     "data": {
      "text/plain": [
       "(0, 768)"
      ]
     },
     "execution_count": 69,
     "metadata": {},
     "output_type": "execute_result"
    }
   ],
   "source": [
    "index = faiss.IndexFlatL2(len(single_vector))\n",
    "index.ntotal, index.d"
   ]
  },
  {
   "cell_type": "code",
   "execution_count": 70,
   "metadata": {},
   "outputs": [],
   "source": [
    "vector_store = FAISS(\n",
    "    embedding_function=embeddings,\n",
    "    index=index,\n",
    "    docstore=InMemoryDocstore(),\n",
    "    index_to_docstore_id={},\n",
    ")"
   ]
  },
  {
   "cell_type": "code",
   "execution_count": 71,
   "metadata": {},
   "outputs": [
    {
     "data": {
      "text/plain": [
       "<langchain_community.vectorstores.faiss.FAISS at 0x1c3b3fc9490>"
      ]
     },
     "execution_count": 71,
     "metadata": {},
     "output_type": "execute_result"
    }
   ],
   "source": [
    "vector_store"
   ]
  },
  {
   "attachments": {},
   "cell_type": "markdown",
   "metadata": {},
   "source": [
    "docs -> doc -> chunks -> embeddings ->"
   ]
  },
  {
   "cell_type": "code",
   "execution_count": 75,
   "metadata": {},
   "outputs": [],
   "source": [
    "ids = vector_store.add_documents(documents=chunks)"
   ]
  },
  {
   "cell_type": "code",
   "execution_count": 79,
   "metadata": {},
   "outputs": [
    {
     "data": {
      "text/plain": [
       "(321, 321)"
      ]
     },
     "execution_count": 79,
     "metadata": {},
     "output_type": "execute_result"
    }
   ],
   "source": [
    "len(ids), len(chunks)\n",
    "# vector_store.index_to_docstore_id"
   ]
  },
  {
   "attachments": {},
   "cell_type": "markdown",
   "metadata": {},
   "source": [
    "## store & load vector database"
   ]
  },
  {
   "cell_type": "code",
   "execution_count": 86,
   "metadata": {},
   "outputs": [],
   "source": [
    "# run it once, if the database has been created, command this cell again\n",
    "\n",
    "# db_name=\"health&gym_supplements\"\n",
    "# vector_store.save_local(\"health&gym_supplements\")\n",
    "\n",
    "# new_vector_store = FAISS.load_local(db_name, embeddings=embeddings, allow_dangerous_deserialization=True)\n",
    "\n",
    "# len(new_vector_store.index_to_docstore_id)"
   ]
  },
  {
   "attachments": {},
   "cell_type": "markdown",
   "metadata": {},
   "source": [
    "# retrival"
   ]
  },
  {
   "cell_type": "code",
   "execution_count": 88,
   "metadata": {},
   "outputs": [
    {
     "name": "stdout",
     "output_type": "stream",
     "text": [
      "acids than traditional protein sources. Its numerous benefits have made it a popular choice\n",
      "for snacks and drinks among consumers [3]. Another widely embraced supplement is\n",
      "caffeine, which is found in many sports and food supplements. Caffeine reduces perceived\n",
      "effort, minimizes fatigue and pain, and proves to be effective for endurance and high-\n",
      "intensity activities, which is the choice of consumers [4].\n",
      "Creatine monohydrate is another well-known supplement used to gain muscle mass\n",
      "and support performance and recovery. It is known not to increase fat mass and remains\n",
      "effective even when taken in recommended doses [5]. Despite its popularity in the fitness\n",
      "Foods 2024, 13, 1424. https://doi.org/10.3390/foods13091424\n",
      "https://www.mdpi.com/journal/foods\n",
      "\n",
      "\n",
      "\n",
      "and strength gain among men. We detected more prevalent protein and creatine supplementation\n",
      "among younger compared to older ﬁtness center users, whereas the opposite was found for vitamin\n",
      "supplementation. Other authors made similar observations [23] and it might reﬂect the diﬀerent\n",
      "training goals among age groups, i.e., more focus on strength and muscles among the younger and\n",
      "more focus on health among the older age groups.\n",
      "Comparable to other studies [4], we detected a positive correlation between training frequency\n",
      "and supplement usage. Nevertheless, the correlation is weak and is deﬁnitely not a predictor at the\n",
      "individual level. The subject with the highest supplement intake of 100 weekly servings was training\n",
      "only once a week.\n",
      "\n",
      "\n",
      "\n",
      "Nutrients 2020, 12, 2595\n",
      "7 of 13\n",
      " \n",
      "3.3. Training Goals \n",
      "The three most important training goals of the participating fitness center users were improving \n",
      "health, improving strength, and body shaping (Figure 2). Analysis by age showed obvious age effects \n",
      "for two training goals. Improving health was named by 59%, 60%, 75%, and 89% as a training goal \n",
      "among the four age groups beginning from the youngest to the oldest group. On the other hand, body \n",
      "shaping was named by 69%, 55%, 41%, and 17% among the four age groups.  \n",
      " \n",
      "Figure 2. Training goals. g: Indicates significant gender effect (p < 0.05). Multiple answers were \n",
      "possible. \n",
      "3.4. Reasons for Supplement Intake \n",
      "The three most important reasons to take supplements were muscle building (49%), improving \n",
      "health (47%), and improving sport-specific performance (28%) (Figure 3).  \n",
      "Figure 2. Training goals. g: Indicates signiﬁcant gender eﬀect (p < 0.05). Multiple answers were possible.\n",
      "3.4. Reasons for Supplement Intake\n",
      "\n",
      "\n",
      "\n",
      "women consuming isoflavone supplements (59) and, given the clear evidence of \n",
      "estrogenicity, there is a likelihood of increased risk of estrogen sensitive cancers in \n",
      "consumers of these products.\n",
      "WEIGHT-LOSS, SPORTS, AND BODYBUILDING SUPPLEMENTS\n",
      "As more and more of the world population becomes overweight and obese, there is a huge \n",
      "market for weight-loss products, including dietary supplements. Among military service \n",
      "members, athletes and bodybuilders it is also common to ingest dietary sports supplements \n",
      "intended to burn fat and increase performance, muscle mass or strength. As examples, 53% \n",
      "of active-duty US Army soldiers report using at least one dietary supplement per week (60), \n",
      "and 64% of college students participating in athletics use dietary supplements to enhance \n",
      "performance (61). The supplements are often proprietary blends of several supposedly \n",
      "natural ingredients. They are not without risk of adverse effects. In a recent review, it is\n",
      "\n",
      "\n",
      "\n"
     ]
    }
   ],
   "source": [
    "question=\"what is used to gain muscle mass?\"\n",
    "docs = vector_store.search(query=question, search_type='similarity')\n",
    "\n",
    "for doc in docs:\n",
    "    # the results that appear are chunks\n",
    "    print(doc.page_content)\n",
    "    print(\"\\n\\n\")"
   ]
  },
  {
   "cell_type": "code",
   "execution_count": 90,
   "metadata": {},
   "outputs": [],
   "source": [
    "retriever = vector_store.as_retriever(\n",
    "    search_type=\"mmr\", \n",
    "    search_kwargs={\n",
    "        'k':3, \n",
    "        'fetch_k':100, \n",
    "        'lambda_mult':1}\n",
    "    )"
   ]
  },
  {
   "cell_type": "code",
   "execution_count": 92,
   "metadata": {},
   "outputs": [
    {
     "name": "stdout",
     "output_type": "stream",
     "text": [
      "acids than traditional protein sources. Its numerous benefits have made it a popular choice\n",
      "for snacks and drinks among consumers [3]. Another widely embraced supplement is\n",
      "caffeine, which is found in many sports and food supplements. Caffeine reduces perceived\n",
      "effort, minimizes fatigue and pain, and proves to be effective for endurance and high-\n",
      "intensity activities, which is the choice of consumers [4].\n",
      "Creatine monohydrate is another well-known supplement used to gain muscle mass\n",
      "and support performance and recovery. It is known not to increase fat mass and remains\n",
      "effective even when taken in recommended doses [5]. Despite its popularity in the fitness\n",
      "Foods 2024, 13, 1424. https://doi.org/10.3390/foods13091424\n",
      "https://www.mdpi.com/journal/foods\n",
      "\n",
      "\n",
      "\n",
      "and strength gain among men. We detected more prevalent protein and creatine supplementation\n",
      "among younger compared to older ﬁtness center users, whereas the opposite was found for vitamin\n",
      "supplementation. Other authors made similar observations [23] and it might reﬂect the diﬀerent\n",
      "training goals among age groups, i.e., more focus on strength and muscles among the younger and\n",
      "more focus on health among the older age groups.\n",
      "Comparable to other studies [4], we detected a positive correlation between training frequency\n",
      "and supplement usage. Nevertheless, the correlation is weak and is deﬁnitely not a predictor at the\n",
      "individual level. The subject with the highest supplement intake of 100 weekly servings was training\n",
      "only once a week.\n",
      "\n",
      "\n",
      "\n",
      "Nutrients 2020, 12, 2595\n",
      "7 of 13\n",
      " \n",
      "3.3. Training Goals \n",
      "The three most important training goals of the participating fitness center users were improving \n",
      "health, improving strength, and body shaping (Figure 2). Analysis by age showed obvious age effects \n",
      "for two training goals. Improving health was named by 59%, 60%, 75%, and 89% as a training goal \n",
      "among the four age groups beginning from the youngest to the oldest group. On the other hand, body \n",
      "shaping was named by 69%, 55%, 41%, and 17% among the four age groups.  \n",
      " \n",
      "Figure 2. Training goals. g: Indicates significant gender effect (p < 0.05). Multiple answers were \n",
      "possible. \n",
      "3.4. Reasons for Supplement Intake \n",
      "The three most important reasons to take supplements were muscle building (49%), improving \n",
      "health (47%), and improving sport-specific performance (28%) (Figure 3).  \n",
      "Figure 2. Training goals. g: Indicates signiﬁcant gender eﬀect (p < 0.05). Multiple answers were possible.\n",
      "3.4. Reasons for Supplement Intake\n",
      "\n",
      "\n",
      "\n",
      "women consuming isoflavone supplements (59) and, given the clear evidence of \n",
      "estrogenicity, there is a likelihood of increased risk of estrogen sensitive cancers in \n",
      "consumers of these products.\n",
      "WEIGHT-LOSS, SPORTS, AND BODYBUILDING SUPPLEMENTS\n",
      "As more and more of the world population becomes overweight and obese, there is a huge \n",
      "market for weight-loss products, including dietary supplements. Among military service \n",
      "members, athletes and bodybuilders it is also common to ingest dietary sports supplements \n",
      "intended to burn fat and increase performance, muscle mass or strength. As examples, 53% \n",
      "of active-duty US Army soldiers report using at least one dietary supplement per week (60), \n",
      "and 64% of college students participating in athletics use dietary supplements to enhance \n",
      "performance (61). The supplements are often proprietary blends of several supposedly \n",
      "natural ingredients. They are not without risk of adverse effects. In a recent review, it is\n",
      "\n",
      "\n",
      "\n"
     ]
    }
   ],
   "source": [
    "doc = retriever.invoke(question)\n",
    "\n",
    "for doc in docs:\n",
    "    # the results that appear are chunks\n",
    "    print(doc.page_content)\n",
    "    print(\"\\n\\n\")"
   ]
  },
  {
   "attachments": {},
   "cell_type": "markdown",
   "metadata": {},
   "source": [
    "# RAG with LLAMA 3.2 on OLLAMA"
   ]
  },
  {
   "cell_type": "code",
   "execution_count": 95,
   "metadata": {},
   "outputs": [
    {
     "data": {
      "text/plain": [
       "AIMessage(content='I\\'m an artificial intelligence model known as Llama. Llama stands for \"Large Language Model Meta AI.\"', additional_kwargs={}, response_metadata={'model': 'llama3.2:1b', 'created_at': '2024-11-18T07:58:03.2840941Z', 'message': {'role': 'assistant', 'content': ''}, 'done_reason': 'stop', 'done': True, 'total_duration': 2257922700, 'load_duration': 24112100, 'prompt_eval_count': 29, 'prompt_eval_duration': 376979000, 'eval_count': 23, 'eval_duration': 1855505000}, id='run-2db848df-247d-42d6-be21-f72a177ac4ae-0', usage_metadata={'input_tokens': 29, 'output_tokens': 23, 'total_tokens': 52})"
      ]
     },
     "execution_count": 95,
     "metadata": {},
     "output_type": "execute_result"
    }
   ],
   "source": [
    "model = ChatOllama(model=\"llama3.2:1b\", base_url=\"http://localhost:11434\") # load model dari ollama\n",
    "\n",
    "model.invoke('who are you?')"
   ]
  },
  {
   "cell_type": "code",
   "execution_count": 103,
   "metadata": {},
   "outputs": [],
   "source": [
    "prompt = hub.pull(\"rlm/rag-prompt\")"
   ]
  },
  {
   "cell_type": "code",
   "execution_count": 104,
   "metadata": {},
   "outputs": [
    {
     "data": {
      "text/plain": [
       "ChatPromptTemplate(input_variables=['context', 'question'], input_types={}, partial_variables={}, metadata={'lc_hub_owner': 'rlm', 'lc_hub_repo': 'rag-prompt', 'lc_hub_commit_hash': '50442af133e61576e74536c6556cefe1fac147cad032f4377b60c436e6cdcb6e'}, messages=[HumanMessagePromptTemplate(prompt=PromptTemplate(input_variables=['context', 'question'], input_types={}, partial_variables={}, template=\"You are an assistant for question-answering tasks. Use the following pieces of retrieved context to answer the question. If you don't know the answer, just say that you don't know. Use three sentences maximum and keep the answer concise.\\nQuestion: {question} \\nContext: {context} \\nAnswer:\"), additional_kwargs={})])"
      ]
     },
     "execution_count": 104,
     "metadata": {},
     "output_type": "execute_result"
    }
   ],
   "source": [
    "prompt"
   ]
  },
  {
   "cell_type": "code",
   "execution_count": 117,
   "metadata": {},
   "outputs": [],
   "source": [
    "prompt = \"\"\"\n",
    "    You are an assistant for question-answering tasks. Use the following pieces of retrieved context to answer the question.\n",
    "    If you don't know the answer, just say that you don't know.\n",
    "    Answer in bullet points. Make sure your answer is relevant to the question and it is answered from the context only.\n",
    "    Question: {question} \n",
    "    Context: {context} \n",
    "    Answer:\n",
    "\"\"\"\n",
    "prompt = ChatPromptTemplate.from_template(prompt)\n"
   ]
  },
  {
   "cell_type": "code",
   "execution_count": 118,
   "metadata": {},
   "outputs": [],
   "source": [
    "def format_docs(docs):\n",
    "    return \"\\n\\n\".join([doc.page_content for doc in docs])\n",
    "\n",
    "# print(format_docs(docs))"
   ]
  },
  {
   "cell_type": "code",
   "execution_count": 119,
   "metadata": {},
   "outputs": [],
   "source": [
    "rag_chain = (\n",
    "    {\n",
    "        \"context\": retriever|format_docs, \n",
    "        \"question\": RunnablePassthrough()\n",
    "    } \n",
    "    | prompt\n",
    "    | model\n",
    "    | StrOutputParser()\n",
    "    \n",
    ")"
   ]
  },
  {
   "cell_type": "code",
   "execution_count": 120,
   "metadata": {},
   "outputs": [
    {
     "name": "stdout",
     "output_type": "stream",
     "text": [
      "Here are the relevant points to answer the question \"What is used to gain muscle mass?\"\n",
      "\n",
      "* Caffeine is a supplement that reduces perceived effort, minimizes fatigue and pain, and proves to be effective for endurance and high-intensity activities.\n",
      "* Creatine monohydrate is another well-known supplement used to gain muscle mass and support performance and recovery.\n",
      "\n",
      "These two supplements are both commonly used to aid in gaining muscle mass.\n"
     ]
    }
   ],
   "source": [
    "question = \"what is used to gain muscle mass?\"\n",
    "\n",
    "output = rag_chain.invoke(question)\n",
    "print(output)"
   ]
  },
  {
   "cell_type": "code",
   "execution_count": 115,
   "metadata": {},
   "outputs": [
    {
     "name": "stdout",
     "output_type": "stream",
     "text": [
      "Here are the relevance scores I assigned to each retrieved document:\n",
      "\n",
      "* **Keyword extraction**: Relevant (1) - The document contains keywords related to the user question \"what is used to increase mass of the Earth?\"\n",
      "\t+ e.g. DMAA\n",
      "\t+ OxyELITE Pro\n",
      "\t+ Bauxhinia purpurea\n",
      "\t+ Bacopa monniera\n",
      "\t+ Cirsium oligophyllum\n",
      "\t+ Rauwolscine (Yohimbe)\n",
      "* **Semantic meaning**: Relevant (1) - The document provides semantic meaning related to the user question, discussing weight loss supplements and their potential effects on metabolism.\n",
      "* **Contextual relevance**: Relevant (1) - The context of the document is relevant to the user question, as it discusses weight loss supplements and their effectiveness in promoting weight reduction.\n"
     ]
    }
   ],
   "source": [
    "# question = \"what is used to gain muscle mass?\"\n",
    "# question = \"what is used to reduce weight?\"\n",
    "# question = \"what are side effects of supplements?\"\n",
    "# question = \"what are the benefits of supplements?\"\n",
    "# question = \"what are the benefits of BCAA supplements?\"\n",
    "\n",
    "question = \"what is used to increase mass of the Earth?\"\n",
    "\n",
    "output = rag_chain.invoke(question)\n",
    "print(output)"
   ]
  }
 ],
 "metadata": {
  "kernelspec": {
   "display_name": "llama",
   "language": "python",
   "name": "python3"
  },
  "language_info": {
   "codemirror_mode": {
    "name": "ipython",
    "version": 3
   },
   "file_extension": ".py",
   "mimetype": "text/x-python",
   "name": "python",
   "nbconvert_exporter": "python",
   "pygments_lexer": "ipython3",
   "version": "3.11.0 (main, Oct 24 2022, 18:26:48) [MSC v.1933 64 bit (AMD64)]"
  },
  "orig_nbformat": 4,
  "vscode": {
   "interpreter": {
    "hash": "191123e9bd87d2bad22cbf1db07640c66839c0cc89d5fc079ee7ebbb8446d0f9"
   }
  }
 },
 "nbformat": 4,
 "nbformat_minor": 2
}
